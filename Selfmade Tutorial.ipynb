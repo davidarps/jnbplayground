{
 "cells": [
  {
   "cell_type": "markdown",
   "metadata": {},
   "source": [
    "# Selfmade Tutorial\n",
    "\n",
    "Try out different things to get the notebook working nice"
   ]
  },
  {
   "cell_type": "markdown",
   "metadata": {},
   "source": [
    "## Plan\n",
    "- Learn Most important keyboard shortcuts \n",
    "- Videos\n",
    "- Text formatting: Tables, Enumerations, Hyperlinks, special signs\n",
    "- LaTeX/Formulas\n",
    "\n",
    "Table Of Contents needs an nbextension -> try later if needed\n"
   ]
  },
  {
   "cell_type": "markdown",
   "metadata": {},
   "source": [
    "## Text formatting\n",
    "### General stuff\n",
    "- **Headings** with \\#, \\#\\# etc.\n",
    "- *italics* with \\*asts\\* or \\_underscores\\_\n",
    "- **bold** with more \\*\\*asts\\*\\* or \\_\\_underscores\\_\\_\n",
    "- ~~Strikethrough~~ with \\~\\~two tildes\\~\\~\n",
    "- Unnumbered lists with \\-\n",
    " - Sublists with indentation\n",
    " \n",
    "\n",
    "2. Numbered lists with \n",
    "5. any number\n",
    "\n",
    "HTML can be useful, for example br-tag for <br>linebreaks.\n",
    "Look [here](https://rmarkdown.rstudio.com/authoring_basics.html) for more.\n",
    "\n",
    "### Hyperlinks\n",
    "[Klick me and waste your time!](https://www.youtube.com)<br>\n",
    "[Klick me and waste your time but with a title!](https://www.youtube.com \"Actually, don't.\")<br>\n",
    "[Klick me and go somewhere else in the repo](./ChapterOne.ipynb)\n",
    "\n",
    "### Verbatim/Code\n",
    "`Inline` open and close with 1 \\` each, for blocks use three\n",
    "\n",
    "### $\\LaTeX$\n",
    "Latex maths code with \\$ for inline $x$ or \\$\\$ $$xyz*3$$ for blocks\n",
    "\n",
    "### Tables\n",
    "\n",
    "Col1Head | Col2Head\n",
    "---------|----------\n",
    "Content1 | Content2\n",
    "Content3 | Content4\n",
    "\n",
    "More fancy table formatting should also be possible"
   ]
  },
  {
   "cell_type": "markdown",
   "metadata": {},
   "source": [
    "## Youtube"
   ]
  },
  {
   "cell_type": "code",
   "execution_count": 2,
   "metadata": {},
   "outputs": [],
   "source": [
    "# with python, not so nice:\n",
    "# from IPython.display import HTML\n",
    "\n",
    "# Youtube\n",
    "# HTML('<iframe width=\"560\" height=\"315\" src=\"https://www.youtube.com/embed/S_f2qV2_U00?rel=0&amp;controls=0&amp;showinfo=0\" frameborder=\"0\" allowfullscreen></iframe>')\n"
   ]
  },
  {
   "cell_type": "markdown",
   "metadata": {},
   "source": [
    "Or in a HTML tag: \n",
    "```\n",
    "    <iframe width=\"560\" height=\"315\" src=\"https://www.youtube-nocookie.com/embed/S_f2qV2_U00?rel=0\" frameborder=\"0\" allow=\"autoplay; encrypted-media\" allowfullscreen></iframe> \n",
    "```\n",
    "<iframe width=\"560\" height=\"315\" src=\"https://www.youtube-nocookie.com/embed/S_f2qV2_U00?rel=0\" frameborder=\"0\" allow=\"autoplay; encrypted-media\" allowfullscreen></iframe>"
   ]
  },
  {
   "cell_type": "raw",
   "metadata": {},
   "source": []
  },
  {
   "cell_type": "code",
   "execution_count": null,
   "metadata": {},
   "outputs": [],
   "source": [
    "\n"
   ]
  }
 ],
 "metadata": {
  "kernelspec": {
   "display_name": "Python 3",
   "language": "python",
   "name": "python3"
  },
  "language_info": {
   "codemirror_mode": {
    "name": "ipython",
    "version": 3
   },
   "file_extension": ".py",
   "mimetype": "text/x-python",
   "name": "python",
   "nbconvert_exporter": "python",
   "pygments_lexer": "ipython3",
   "version": "3.6.4"
  }
 },
 "nbformat": 4,
 "nbformat_minor": 2
}
